{
 "cells": [
  {
   "cell_type": "markdown",
   "id": "714d5566",
   "metadata": {},
   "source": [
    "# ASSIGNMENT ON CLASSIFICATION"
   ]
  },
  {
   "cell_type": "markdown",
   "id": "8f2707c1",
   "metadata": {},
   "source": [
    "##### 1. Read the dataset to python environment"
   ]
  },
  {
   "cell_type": "code",
   "execution_count": 101,
   "id": "45f146e6",
   "metadata": {},
   "outputs": [],
   "source": [
    "import pandas as pd\n",
    "import numpy as np\n",
    "import seaborn as sns\n",
    "import matplotlib.pyplot as plt\n",
    "%matplotlib inline"
   ]
  },
  {
   "cell_type": "code",
   "execution_count": 102,
   "id": "092ff80f",
   "metadata": {},
   "outputs": [
    {
     "name": "stdout",
     "output_type": "stream",
     "text": [
      "Requirement already satisfied: openpyxl in c:\\users\\jubie\\anaconda3\\lib\\site-packages (3.0.10)\n",
      "Requirement already satisfied: et-xmlfile in c:\\users\\jubie\\anaconda3\\lib\\site-packages (from openpyxl) (1.1.0)\n"
     ]
    }
   ],
   "source": [
    "!pip install openpyxl\n"
   ]
  },
  {
   "cell_type": "code",
   "execution_count": 103,
   "id": "87b2c4fb",
   "metadata": {
    "scrolled": true
   },
   "outputs": [
    {
     "data": {
      "text/html": [
       "<div>\n",
       "<style scoped>\n",
       "    .dataframe tbody tr th:only-of-type {\n",
       "        vertical-align: middle;\n",
       "    }\n",
       "\n",
       "    .dataframe tbody tr th {\n",
       "        vertical-align: top;\n",
       "    }\n",
       "\n",
       "    .dataframe thead th {\n",
       "        text-align: right;\n",
       "    }\n",
       "</style>\n",
       "<table border=\"1\" class=\"dataframe\">\n",
       "  <thead>\n",
       "    <tr style=\"text-align: right;\">\n",
       "      <th></th>\n",
       "      <th>SW</th>\n",
       "      <th>PL</th>\n",
       "      <th>PW</th>\n",
       "      <th>Classification</th>\n",
       "    </tr>\n",
       "    <tr>\n",
       "      <th>SL</th>\n",
       "      <th></th>\n",
       "      <th></th>\n",
       "      <th></th>\n",
       "      <th></th>\n",
       "    </tr>\n",
       "  </thead>\n",
       "  <tbody>\n",
       "    <tr>\n",
       "      <th>5.1</th>\n",
       "      <td>3.5</td>\n",
       "      <td>1.4</td>\n",
       "      <td>0.2</td>\n",
       "      <td>Iris-setosa</td>\n",
       "    </tr>\n",
       "    <tr>\n",
       "      <th>4.9</th>\n",
       "      <td>3.0</td>\n",
       "      <td>1.4</td>\n",
       "      <td>0.2</td>\n",
       "      <td>Iris-setosa</td>\n",
       "    </tr>\n",
       "    <tr>\n",
       "      <th>4.7</th>\n",
       "      <td>3.2</td>\n",
       "      <td>1.3</td>\n",
       "      <td>0.2</td>\n",
       "      <td>Iris-setosa</td>\n",
       "    </tr>\n",
       "    <tr>\n",
       "      <th>4.6</th>\n",
       "      <td>3.1</td>\n",
       "      <td>1.5</td>\n",
       "      <td>0.2</td>\n",
       "      <td>Iris-setosa</td>\n",
       "    </tr>\n",
       "    <tr>\n",
       "      <th>5.0</th>\n",
       "      <td>3.6</td>\n",
       "      <td>1.4</td>\n",
       "      <td>0.2</td>\n",
       "      <td>Iris-setosa</td>\n",
       "    </tr>\n",
       "    <tr>\n",
       "      <th>...</th>\n",
       "      <td>...</td>\n",
       "      <td>...</td>\n",
       "      <td>...</td>\n",
       "      <td>...</td>\n",
       "    </tr>\n",
       "    <tr>\n",
       "      <th>6.7</th>\n",
       "      <td>3.0</td>\n",
       "      <td>5.2</td>\n",
       "      <td>2.3</td>\n",
       "      <td>Iris-virginica</td>\n",
       "    </tr>\n",
       "    <tr>\n",
       "      <th>6.3</th>\n",
       "      <td>2.5</td>\n",
       "      <td>5.0</td>\n",
       "      <td>1.9</td>\n",
       "      <td>Iris-virginica</td>\n",
       "    </tr>\n",
       "    <tr>\n",
       "      <th>6.5</th>\n",
       "      <td>3.0</td>\n",
       "      <td>5.2</td>\n",
       "      <td>2.0</td>\n",
       "      <td>Iris-virginica</td>\n",
       "    </tr>\n",
       "    <tr>\n",
       "      <th>6.2</th>\n",
       "      <td>3.4</td>\n",
       "      <td>5.4</td>\n",
       "      <td>2.3</td>\n",
       "      <td>Iris-virginica</td>\n",
       "    </tr>\n",
       "    <tr>\n",
       "      <th>5.9</th>\n",
       "      <td>3.0</td>\n",
       "      <td>5.1</td>\n",
       "      <td>1.8</td>\n",
       "      <td>Iris-virginica</td>\n",
       "    </tr>\n",
       "  </tbody>\n",
       "</table>\n",
       "<p>150 rows × 4 columns</p>\n",
       "</div>"
      ],
      "text/plain": [
       "      SW   PL   PW  Classification\n",
       "SL                                \n",
       "5.1  3.5  1.4  0.2     Iris-setosa\n",
       "4.9  3.0  1.4  0.2     Iris-setosa\n",
       "4.7  3.2  1.3  0.2     Iris-setosa\n",
       "4.6  3.1  1.5  0.2     Iris-setosa\n",
       "5.0  3.6  1.4  0.2     Iris-setosa\n",
       "..   ...  ...  ...             ...\n",
       "6.7  3.0  5.2  2.3  Iris-virginica\n",
       "6.3  2.5  5.0  1.9  Iris-virginica\n",
       "6.5  3.0  5.2  2.0  Iris-virginica\n",
       "6.2  3.4  5.4  2.3  Iris-virginica\n",
       "5.9  3.0  5.1  1.8  Iris-virginica\n",
       "\n",
       "[150 rows x 4 columns]"
      ]
     },
     "execution_count": 103,
     "metadata": {},
     "output_type": "execute_result"
    }
   ],
   "source": [
    "df= pd.read_excel(r\"C:\\Users\\jubie\\Downloads\\iris.xls\",index_col=0)\n",
    "df"
   ]
  },
  {
   "cell_type": "code",
   "execution_count": 104,
   "id": "69d1bb6c",
   "metadata": {},
   "outputs": [
    {
     "data": {
      "text/html": [
       "<div>\n",
       "<style scoped>\n",
       "    .dataframe tbody tr th:only-of-type {\n",
       "        vertical-align: middle;\n",
       "    }\n",
       "\n",
       "    .dataframe tbody tr th {\n",
       "        vertical-align: top;\n",
       "    }\n",
       "\n",
       "    .dataframe thead th {\n",
       "        text-align: right;\n",
       "    }\n",
       "</style>\n",
       "<table border=\"1\" class=\"dataframe\">\n",
       "  <thead>\n",
       "    <tr style=\"text-align: right;\">\n",
       "      <th></th>\n",
       "      <th>SW</th>\n",
       "      <th>PL</th>\n",
       "      <th>PW</th>\n",
       "      <th>Classification</th>\n",
       "    </tr>\n",
       "    <tr>\n",
       "      <th>SL</th>\n",
       "      <th></th>\n",
       "      <th></th>\n",
       "      <th></th>\n",
       "      <th></th>\n",
       "    </tr>\n",
       "  </thead>\n",
       "  <tbody>\n",
       "    <tr>\n",
       "      <th>5.1</th>\n",
       "      <td>3.5</td>\n",
       "      <td>1.4</td>\n",
       "      <td>0.2</td>\n",
       "      <td>Iris-setosa</td>\n",
       "    </tr>\n",
       "    <tr>\n",
       "      <th>4.9</th>\n",
       "      <td>3.0</td>\n",
       "      <td>1.4</td>\n",
       "      <td>0.2</td>\n",
       "      <td>Iris-setosa</td>\n",
       "    </tr>\n",
       "    <tr>\n",
       "      <th>4.7</th>\n",
       "      <td>3.2</td>\n",
       "      <td>1.3</td>\n",
       "      <td>0.2</td>\n",
       "      <td>Iris-setosa</td>\n",
       "    </tr>\n",
       "    <tr>\n",
       "      <th>4.6</th>\n",
       "      <td>3.1</td>\n",
       "      <td>1.5</td>\n",
       "      <td>0.2</td>\n",
       "      <td>Iris-setosa</td>\n",
       "    </tr>\n",
       "    <tr>\n",
       "      <th>5.0</th>\n",
       "      <td>3.6</td>\n",
       "      <td>1.4</td>\n",
       "      <td>0.2</td>\n",
       "      <td>Iris-setosa</td>\n",
       "    </tr>\n",
       "  </tbody>\n",
       "</table>\n",
       "</div>"
      ],
      "text/plain": [
       "      SW   PL   PW Classification\n",
       "SL                               \n",
       "5.1  3.5  1.4  0.2    Iris-setosa\n",
       "4.9  3.0  1.4  0.2    Iris-setosa\n",
       "4.7  3.2  1.3  0.2    Iris-setosa\n",
       "4.6  3.1  1.5  0.2    Iris-setosa\n",
       "5.0  3.6  1.4  0.2    Iris-setosa"
      ]
     },
     "execution_count": 104,
     "metadata": {},
     "output_type": "execute_result"
    }
   ],
   "source": [
    "df.head()"
   ]
  },
  {
   "cell_type": "code",
   "execution_count": 105,
   "id": "3dfb6c95",
   "metadata": {},
   "outputs": [
    {
     "data": {
      "text/plain": [
       "(150, 4)"
      ]
     },
     "execution_count": 105,
     "metadata": {},
     "output_type": "execute_result"
    }
   ],
   "source": [
    "df.shape"
   ]
  },
  {
   "cell_type": "code",
   "execution_count": 106,
   "id": "375b24f3",
   "metadata": {},
   "outputs": [
    {
     "data": {
      "text/html": [
       "<div>\n",
       "<style scoped>\n",
       "    .dataframe tbody tr th:only-of-type {\n",
       "        vertical-align: middle;\n",
       "    }\n",
       "\n",
       "    .dataframe tbody tr th {\n",
       "        vertical-align: top;\n",
       "    }\n",
       "\n",
       "    .dataframe thead th {\n",
       "        text-align: right;\n",
       "    }\n",
       "</style>\n",
       "<table border=\"1\" class=\"dataframe\">\n",
       "  <thead>\n",
       "    <tr style=\"text-align: right;\">\n",
       "      <th></th>\n",
       "      <th>SW</th>\n",
       "      <th>PL</th>\n",
       "      <th>PW</th>\n",
       "    </tr>\n",
       "  </thead>\n",
       "  <tbody>\n",
       "    <tr>\n",
       "      <th>count</th>\n",
       "      <td>150.000000</td>\n",
       "      <td>150.000000</td>\n",
       "      <td>150.000000</td>\n",
       "    </tr>\n",
       "    <tr>\n",
       "      <th>mean</th>\n",
       "      <td>3.054000</td>\n",
       "      <td>3.758667</td>\n",
       "      <td>1.198667</td>\n",
       "    </tr>\n",
       "    <tr>\n",
       "      <th>std</th>\n",
       "      <td>0.433594</td>\n",
       "      <td>1.764420</td>\n",
       "      <td>0.763161</td>\n",
       "    </tr>\n",
       "    <tr>\n",
       "      <th>min</th>\n",
       "      <td>2.000000</td>\n",
       "      <td>1.000000</td>\n",
       "      <td>0.100000</td>\n",
       "    </tr>\n",
       "    <tr>\n",
       "      <th>25%</th>\n",
       "      <td>2.800000</td>\n",
       "      <td>1.600000</td>\n",
       "      <td>0.300000</td>\n",
       "    </tr>\n",
       "    <tr>\n",
       "      <th>50%</th>\n",
       "      <td>3.000000</td>\n",
       "      <td>4.350000</td>\n",
       "      <td>1.300000</td>\n",
       "    </tr>\n",
       "    <tr>\n",
       "      <th>75%</th>\n",
       "      <td>3.300000</td>\n",
       "      <td>5.100000</td>\n",
       "      <td>1.800000</td>\n",
       "    </tr>\n",
       "    <tr>\n",
       "      <th>max</th>\n",
       "      <td>4.400000</td>\n",
       "      <td>6.900000</td>\n",
       "      <td>2.500000</td>\n",
       "    </tr>\n",
       "  </tbody>\n",
       "</table>\n",
       "</div>"
      ],
      "text/plain": [
       "               SW          PL          PW\n",
       "count  150.000000  150.000000  150.000000\n",
       "mean     3.054000    3.758667    1.198667\n",
       "std      0.433594    1.764420    0.763161\n",
       "min      2.000000    1.000000    0.100000\n",
       "25%      2.800000    1.600000    0.300000\n",
       "50%      3.000000    4.350000    1.300000\n",
       "75%      3.300000    5.100000    1.800000\n",
       "max      4.400000    6.900000    2.500000"
      ]
     },
     "execution_count": 106,
     "metadata": {},
     "output_type": "execute_result"
    }
   ],
   "source": [
    "df.describe()"
   ]
  },
  {
   "cell_type": "code",
   "execution_count": 107,
   "id": "1e485032",
   "metadata": {},
   "outputs": [
    {
     "name": "stdout",
     "output_type": "stream",
     "text": [
      "<class 'pandas.core.frame.DataFrame'>\n",
      "Float64Index: 150 entries, 5.1 to 5.9\n",
      "Data columns (total 4 columns):\n",
      " #   Column          Non-Null Count  Dtype  \n",
      "---  ------          --------------  -----  \n",
      " 0   SW              150 non-null    float64\n",
      " 1   PL              150 non-null    float64\n",
      " 2   PW              150 non-null    float64\n",
      " 3   Classification  150 non-null    object \n",
      "dtypes: float64(3), object(1)\n",
      "memory usage: 5.9+ KB\n"
     ]
    }
   ],
   "source": [
    "df.info()"
   ]
  },
  {
   "cell_type": "code",
   "execution_count": 108,
   "id": "1e5c681e",
   "metadata": {},
   "outputs": [
    {
     "data": {
      "text/plain": [
       "SW                0\n",
       "PL                0\n",
       "PW                0\n",
       "Classification    0\n",
       "dtype: int64"
      ]
     },
     "execution_count": 108,
     "metadata": {},
     "output_type": "execute_result"
    }
   ],
   "source": [
    "df.isnull().sum() ## no missing values.so it is clean data"
   ]
  },
  {
   "cell_type": "code",
   "execution_count": 109,
   "id": "f8bbff56",
   "metadata": {},
   "outputs": [
    {
     "data": {
      "text/plain": [
       "SW                float64\n",
       "PL                float64\n",
       "PW                float64\n",
       "Classification     object\n",
       "dtype: object"
      ]
     },
     "execution_count": 109,
     "metadata": {},
     "output_type": "execute_result"
    }
   ],
   "source": [
    "df.dtypes"
   ]
  },
  {
   "cell_type": "code",
   "execution_count": 110,
   "id": "c87f4d7c",
   "metadata": {},
   "outputs": [
    {
     "data": {
      "text/plain": [
       "Classification\n",
       "Iris-setosa        50\n",
       "Iris-versicolor    50\n",
       "Iris-virginica     50\n",
       "dtype: int64"
      ]
     },
     "execution_count": 110,
     "metadata": {},
     "output_type": "execute_result"
    }
   ],
   "source": [
    "df.groupby('Classification').size()\n"
   ]
  },
  {
   "cell_type": "markdown",
   "id": "fd54bc92",
   "metadata": {},
   "source": [
    "#### 2. Do the necessary pre-processing steps"
   ]
  },
  {
   "cell_type": "code",
   "execution_count": 111,
   "id": "2f64cbe7",
   "metadata": {},
   "outputs": [],
   "source": [
    "df1=pd.get_dummies(df)#one hot encoding"
   ]
  },
  {
   "cell_type": "code",
   "execution_count": 112,
   "id": "c10f1122",
   "metadata": {},
   "outputs": [
    {
     "data": {
      "text/html": [
       "<div>\n",
       "<style scoped>\n",
       "    .dataframe tbody tr th:only-of-type {\n",
       "        vertical-align: middle;\n",
       "    }\n",
       "\n",
       "    .dataframe tbody tr th {\n",
       "        vertical-align: top;\n",
       "    }\n",
       "\n",
       "    .dataframe thead th {\n",
       "        text-align: right;\n",
       "    }\n",
       "</style>\n",
       "<table border=\"1\" class=\"dataframe\">\n",
       "  <thead>\n",
       "    <tr style=\"text-align: right;\">\n",
       "      <th></th>\n",
       "      <th>SW</th>\n",
       "      <th>PL</th>\n",
       "      <th>PW</th>\n",
       "      <th>Classification_Iris-setosa</th>\n",
       "      <th>Classification_Iris-versicolor</th>\n",
       "      <th>Classification_Iris-virginica</th>\n",
       "    </tr>\n",
       "    <tr>\n",
       "      <th>SL</th>\n",
       "      <th></th>\n",
       "      <th></th>\n",
       "      <th></th>\n",
       "      <th></th>\n",
       "      <th></th>\n",
       "      <th></th>\n",
       "    </tr>\n",
       "  </thead>\n",
       "  <tbody>\n",
       "    <tr>\n",
       "      <th>5.1</th>\n",
       "      <td>3.5</td>\n",
       "      <td>1.4</td>\n",
       "      <td>0.2</td>\n",
       "      <td>1</td>\n",
       "      <td>0</td>\n",
       "      <td>0</td>\n",
       "    </tr>\n",
       "    <tr>\n",
       "      <th>4.9</th>\n",
       "      <td>3.0</td>\n",
       "      <td>1.4</td>\n",
       "      <td>0.2</td>\n",
       "      <td>1</td>\n",
       "      <td>0</td>\n",
       "      <td>0</td>\n",
       "    </tr>\n",
       "    <tr>\n",
       "      <th>4.7</th>\n",
       "      <td>3.2</td>\n",
       "      <td>1.3</td>\n",
       "      <td>0.2</td>\n",
       "      <td>1</td>\n",
       "      <td>0</td>\n",
       "      <td>0</td>\n",
       "    </tr>\n",
       "    <tr>\n",
       "      <th>4.6</th>\n",
       "      <td>3.1</td>\n",
       "      <td>1.5</td>\n",
       "      <td>0.2</td>\n",
       "      <td>1</td>\n",
       "      <td>0</td>\n",
       "      <td>0</td>\n",
       "    </tr>\n",
       "    <tr>\n",
       "      <th>5.0</th>\n",
       "      <td>3.6</td>\n",
       "      <td>1.4</td>\n",
       "      <td>0.2</td>\n",
       "      <td>1</td>\n",
       "      <td>0</td>\n",
       "      <td>0</td>\n",
       "    </tr>\n",
       "  </tbody>\n",
       "</table>\n",
       "</div>"
      ],
      "text/plain": [
       "      SW   PL   PW  Classification_Iris-setosa  \\\n",
       "SL                                               \n",
       "5.1  3.5  1.4  0.2                           1   \n",
       "4.9  3.0  1.4  0.2                           1   \n",
       "4.7  3.2  1.3  0.2                           1   \n",
       "4.6  3.1  1.5  0.2                           1   \n",
       "5.0  3.6  1.4  0.2                           1   \n",
       "\n",
       "     Classification_Iris-versicolor  Classification_Iris-virginica  \n",
       "SL                                                                  \n",
       "5.1                               0                              0  \n",
       "4.9                               0                              0  \n",
       "4.7                               0                              0  \n",
       "4.6                               0                              0  \n",
       "5.0                               0                              0  "
      ]
     },
     "execution_count": 112,
     "metadata": {},
     "output_type": "execute_result"
    }
   ],
   "source": [
    "df1.head()"
   ]
  },
  {
   "cell_type": "markdown",
   "id": "cfbb2828",
   "metadata": {},
   "source": [
    "#####  MinMax SCaling\n"
   ]
  },
  {
   "cell_type": "code",
   "execution_count": 113,
   "id": "0fa6cec4",
   "metadata": {},
   "outputs": [
    {
     "data": {
      "text/plain": [
       "array([[0.625     , 0.06779661, 0.04166667, 1.        , 0.        ,\n",
       "        0.        ],\n",
       "       [0.41666667, 0.06779661, 0.04166667, 1.        , 0.        ,\n",
       "        0.        ],\n",
       "       [0.5       , 0.05084746, 0.04166667, 1.        , 0.        ,\n",
       "        0.        ],\n",
       "       [0.45833333, 0.08474576, 0.04166667, 1.        , 0.        ,\n",
       "        0.        ],\n",
       "       [0.66666667, 0.06779661, 0.04166667, 1.        , 0.        ,\n",
       "        0.        ],\n",
       "       [0.79166667, 0.11864407, 0.125     , 1.        , 0.        ,\n",
       "        0.        ],\n",
       "       [0.58333333, 0.06779661, 0.08333333, 1.        , 0.        ,\n",
       "        0.        ],\n",
       "       [0.58333333, 0.08474576, 0.04166667, 1.        , 0.        ,\n",
       "        0.        ],\n",
       "       [0.375     , 0.06779661, 0.04166667, 1.        , 0.        ,\n",
       "        0.        ],\n",
       "       [0.45833333, 0.08474576, 0.        , 1.        , 0.        ,\n",
       "        0.        ],\n",
       "       [0.70833333, 0.08474576, 0.04166667, 1.        , 0.        ,\n",
       "        0.        ],\n",
       "       [0.58333333, 0.10169492, 0.04166667, 1.        , 0.        ,\n",
       "        0.        ],\n",
       "       [0.41666667, 0.06779661, 0.        , 1.        , 0.        ,\n",
       "        0.        ],\n",
       "       [0.41666667, 0.01694915, 0.        , 1.        , 0.        ,\n",
       "        0.        ],\n",
       "       [0.83333333, 0.03389831, 0.04166667, 1.        , 0.        ,\n",
       "        0.        ],\n",
       "       [1.        , 0.08474576, 0.125     , 1.        , 0.        ,\n",
       "        0.        ],\n",
       "       [0.79166667, 0.05084746, 0.125     , 1.        , 0.        ,\n",
       "        0.        ],\n",
       "       [0.625     , 0.06779661, 0.08333333, 1.        , 0.        ,\n",
       "        0.        ],\n",
       "       [0.75      , 0.11864407, 0.08333333, 1.        , 0.        ,\n",
       "        0.        ],\n",
       "       [0.75      , 0.08474576, 0.08333333, 1.        , 0.        ,\n",
       "        0.        ],\n",
       "       [0.58333333, 0.11864407, 0.04166667, 1.        , 0.        ,\n",
       "        0.        ],\n",
       "       [0.70833333, 0.08474576, 0.125     , 1.        , 0.        ,\n",
       "        0.        ],\n",
       "       [0.66666667, 0.        , 0.04166667, 1.        , 0.        ,\n",
       "        0.        ],\n",
       "       [0.54166667, 0.11864407, 0.16666667, 1.        , 0.        ,\n",
       "        0.        ],\n",
       "       [0.58333333, 0.15254237, 0.04166667, 1.        , 0.        ,\n",
       "        0.        ],\n",
       "       [0.41666667, 0.10169492, 0.04166667, 1.        , 0.        ,\n",
       "        0.        ],\n",
       "       [0.58333333, 0.10169492, 0.125     , 1.        , 0.        ,\n",
       "        0.        ],\n",
       "       [0.625     , 0.08474576, 0.04166667, 1.        , 0.        ,\n",
       "        0.        ],\n",
       "       [0.58333333, 0.06779661, 0.04166667, 1.        , 0.        ,\n",
       "        0.        ],\n",
       "       [0.5       , 0.10169492, 0.04166667, 1.        , 0.        ,\n",
       "        0.        ],\n",
       "       [0.45833333, 0.10169492, 0.04166667, 1.        , 0.        ,\n",
       "        0.        ],\n",
       "       [0.58333333, 0.08474576, 0.125     , 1.        , 0.        ,\n",
       "        0.        ],\n",
       "       [0.875     , 0.08474576, 0.        , 1.        , 0.        ,\n",
       "        0.        ],\n",
       "       [0.91666667, 0.06779661, 0.04166667, 1.        , 0.        ,\n",
       "        0.        ],\n",
       "       [0.45833333, 0.08474576, 0.        , 1.        , 0.        ,\n",
       "        0.        ],\n",
       "       [0.5       , 0.03389831, 0.04166667, 1.        , 0.        ,\n",
       "        0.        ],\n",
       "       [0.625     , 0.05084746, 0.04166667, 1.        , 0.        ,\n",
       "        0.        ],\n",
       "       [0.45833333, 0.08474576, 0.        , 1.        , 0.        ,\n",
       "        0.        ],\n",
       "       [0.41666667, 0.05084746, 0.04166667, 1.        , 0.        ,\n",
       "        0.        ],\n",
       "       [0.58333333, 0.08474576, 0.04166667, 1.        , 0.        ,\n",
       "        0.        ],\n",
       "       [0.625     , 0.05084746, 0.08333333, 1.        , 0.        ,\n",
       "        0.        ],\n",
       "       [0.125     , 0.05084746, 0.08333333, 1.        , 0.        ,\n",
       "        0.        ],\n",
       "       [0.5       , 0.05084746, 0.04166667, 1.        , 0.        ,\n",
       "        0.        ],\n",
       "       [0.625     , 0.10169492, 0.20833333, 1.        , 0.        ,\n",
       "        0.        ],\n",
       "       [0.75      , 0.15254237, 0.125     , 1.        , 0.        ,\n",
       "        0.        ],\n",
       "       [0.41666667, 0.06779661, 0.08333333, 1.        , 0.        ,\n",
       "        0.        ],\n",
       "       [0.75      , 0.10169492, 0.04166667, 1.        , 0.        ,\n",
       "        0.        ],\n",
       "       [0.5       , 0.06779661, 0.04166667, 1.        , 0.        ,\n",
       "        0.        ],\n",
       "       [0.70833333, 0.08474576, 0.04166667, 1.        , 0.        ,\n",
       "        0.        ],\n",
       "       [0.54166667, 0.06779661, 0.04166667, 1.        , 0.        ,\n",
       "        0.        ],\n",
       "       [0.5       , 0.62711864, 0.54166667, 0.        , 1.        ,\n",
       "        0.        ],\n",
       "       [0.5       , 0.59322034, 0.58333333, 0.        , 1.        ,\n",
       "        0.        ],\n",
       "       [0.45833333, 0.66101695, 0.58333333, 0.        , 1.        ,\n",
       "        0.        ],\n",
       "       [0.125     , 0.50847458, 0.5       , 0.        , 1.        ,\n",
       "        0.        ],\n",
       "       [0.33333333, 0.61016949, 0.58333333, 0.        , 1.        ,\n",
       "        0.        ],\n",
       "       [0.33333333, 0.59322034, 0.5       , 0.        , 1.        ,\n",
       "        0.        ],\n",
       "       [0.54166667, 0.62711864, 0.625     , 0.        , 1.        ,\n",
       "        0.        ],\n",
       "       [0.16666667, 0.38983051, 0.375     , 0.        , 1.        ,\n",
       "        0.        ],\n",
       "       [0.375     , 0.61016949, 0.5       , 0.        , 1.        ,\n",
       "        0.        ],\n",
       "       [0.29166667, 0.49152542, 0.54166667, 0.        , 1.        ,\n",
       "        0.        ],\n",
       "       [0.        , 0.42372881, 0.375     , 0.        , 1.        ,\n",
       "        0.        ],\n",
       "       [0.41666667, 0.54237288, 0.58333333, 0.        , 1.        ,\n",
       "        0.        ],\n",
       "       [0.08333333, 0.50847458, 0.375     , 0.        , 1.        ,\n",
       "        0.        ],\n",
       "       [0.375     , 0.62711864, 0.54166667, 0.        , 1.        ,\n",
       "        0.        ],\n",
       "       [0.375     , 0.44067797, 0.5       , 0.        , 1.        ,\n",
       "        0.        ],\n",
       "       [0.45833333, 0.57627119, 0.54166667, 0.        , 1.        ,\n",
       "        0.        ],\n",
       "       [0.41666667, 0.59322034, 0.58333333, 0.        , 1.        ,\n",
       "        0.        ],\n",
       "       [0.29166667, 0.52542373, 0.375     , 0.        , 1.        ,\n",
       "        0.        ],\n",
       "       [0.08333333, 0.59322034, 0.58333333, 0.        , 1.        ,\n",
       "        0.        ],\n",
       "       [0.20833333, 0.49152542, 0.41666667, 0.        , 1.        ,\n",
       "        0.        ],\n",
       "       [0.5       , 0.6440678 , 0.70833333, 0.        , 1.        ,\n",
       "        0.        ],\n",
       "       [0.33333333, 0.50847458, 0.5       , 0.        , 1.        ,\n",
       "        0.        ],\n",
       "       [0.20833333, 0.66101695, 0.58333333, 0.        , 1.        ,\n",
       "        0.        ],\n",
       "       [0.33333333, 0.62711864, 0.45833333, 0.        , 1.        ,\n",
       "        0.        ],\n",
       "       [0.375     , 0.55932203, 0.5       , 0.        , 1.        ,\n",
       "        0.        ],\n",
       "       [0.41666667, 0.57627119, 0.54166667, 0.        , 1.        ,\n",
       "        0.        ],\n",
       "       [0.33333333, 0.6440678 , 0.54166667, 0.        , 1.        ,\n",
       "        0.        ],\n",
       "       [0.41666667, 0.6779661 , 0.66666667, 0.        , 1.        ,\n",
       "        0.        ],\n",
       "       [0.375     , 0.59322034, 0.58333333, 0.        , 1.        ,\n",
       "        0.        ],\n",
       "       [0.25      , 0.42372881, 0.375     , 0.        , 1.        ,\n",
       "        0.        ],\n",
       "       [0.16666667, 0.47457627, 0.41666667, 0.        , 1.        ,\n",
       "        0.        ],\n",
       "       [0.16666667, 0.45762712, 0.375     , 0.        , 1.        ,\n",
       "        0.        ],\n",
       "       [0.29166667, 0.49152542, 0.45833333, 0.        , 1.        ,\n",
       "        0.        ],\n",
       "       [0.29166667, 0.69491525, 0.625     , 0.        , 1.        ,\n",
       "        0.        ],\n",
       "       [0.41666667, 0.59322034, 0.58333333, 0.        , 1.        ,\n",
       "        0.        ],\n",
       "       [0.58333333, 0.59322034, 0.625     , 0.        , 1.        ,\n",
       "        0.        ],\n",
       "       [0.45833333, 0.62711864, 0.58333333, 0.        , 1.        ,\n",
       "        0.        ],\n",
       "       [0.125     , 0.57627119, 0.5       , 0.        , 1.        ,\n",
       "        0.        ],\n",
       "       [0.41666667, 0.52542373, 0.5       , 0.        , 1.        ,\n",
       "        0.        ],\n",
       "       [0.20833333, 0.50847458, 0.5       , 0.        , 1.        ,\n",
       "        0.        ],\n",
       "       [0.25      , 0.57627119, 0.45833333, 0.        , 1.        ,\n",
       "        0.        ],\n",
       "       [0.41666667, 0.61016949, 0.54166667, 0.        , 1.        ,\n",
       "        0.        ],\n",
       "       [0.25      , 0.50847458, 0.45833333, 0.        , 1.        ,\n",
       "        0.        ],\n",
       "       [0.125     , 0.38983051, 0.375     , 0.        , 1.        ,\n",
       "        0.        ],\n",
       "       [0.29166667, 0.54237288, 0.5       , 0.        , 1.        ,\n",
       "        0.        ],\n",
       "       [0.41666667, 0.54237288, 0.45833333, 0.        , 1.        ,\n",
       "        0.        ],\n",
       "       [0.375     , 0.54237288, 0.5       , 0.        , 1.        ,\n",
       "        0.        ],\n",
       "       [0.375     , 0.55932203, 0.5       , 0.        , 1.        ,\n",
       "        0.        ],\n",
       "       [0.20833333, 0.33898305, 0.41666667, 0.        , 1.        ,\n",
       "        0.        ],\n",
       "       [0.33333333, 0.52542373, 0.5       , 0.        , 1.        ,\n",
       "        0.        ],\n",
       "       [0.54166667, 0.84745763, 1.        , 0.        , 0.        ,\n",
       "        1.        ],\n",
       "       [0.29166667, 0.69491525, 0.75      , 0.        , 0.        ,\n",
       "        1.        ],\n",
       "       [0.41666667, 0.83050847, 0.83333333, 0.        , 0.        ,\n",
       "        1.        ],\n",
       "       [0.375     , 0.77966102, 0.70833333, 0.        , 0.        ,\n",
       "        1.        ],\n",
       "       [0.41666667, 0.81355932, 0.875     , 0.        , 0.        ,\n",
       "        1.        ],\n",
       "       [0.41666667, 0.94915254, 0.83333333, 0.        , 0.        ,\n",
       "        1.        ],\n",
       "       [0.20833333, 0.59322034, 0.66666667, 0.        , 0.        ,\n",
       "        1.        ],\n",
       "       [0.375     , 0.89830508, 0.70833333, 0.        , 0.        ,\n",
       "        1.        ],\n",
       "       [0.20833333, 0.81355932, 0.70833333, 0.        , 0.        ,\n",
       "        1.        ],\n",
       "       [0.66666667, 0.86440678, 1.        , 0.        , 0.        ,\n",
       "        1.        ],\n",
       "       [0.5       , 0.69491525, 0.79166667, 0.        , 0.        ,\n",
       "        1.        ],\n",
       "       [0.29166667, 0.72881356, 0.75      , 0.        , 0.        ,\n",
       "        1.        ],\n",
       "       [0.41666667, 0.76271186, 0.83333333, 0.        , 0.        ,\n",
       "        1.        ],\n",
       "       [0.20833333, 0.6779661 , 0.79166667, 0.        , 0.        ,\n",
       "        1.        ],\n",
       "       [0.33333333, 0.69491525, 0.95833333, 0.        , 0.        ,\n",
       "        1.        ],\n",
       "       [0.5       , 0.72881356, 0.91666667, 0.        , 0.        ,\n",
       "        1.        ],\n",
       "       [0.41666667, 0.76271186, 0.70833333, 0.        , 0.        ,\n",
       "        1.        ],\n",
       "       [0.75      , 0.96610169, 0.875     , 0.        , 0.        ,\n",
       "        1.        ],\n",
       "       [0.25      , 1.        , 0.91666667, 0.        , 0.        ,\n",
       "        1.        ],\n",
       "       [0.08333333, 0.6779661 , 0.58333333, 0.        , 0.        ,\n",
       "        1.        ],\n",
       "       [0.5       , 0.79661017, 0.91666667, 0.        , 0.        ,\n",
       "        1.        ],\n",
       "       [0.33333333, 0.66101695, 0.79166667, 0.        , 0.        ,\n",
       "        1.        ],\n",
       "       [0.33333333, 0.96610169, 0.79166667, 0.        , 0.        ,\n",
       "        1.        ],\n",
       "       [0.29166667, 0.66101695, 0.70833333, 0.        , 0.        ,\n",
       "        1.        ],\n",
       "       [0.54166667, 0.79661017, 0.83333333, 0.        , 0.        ,\n",
       "        1.        ],\n",
       "       [0.5       , 0.84745763, 0.70833333, 0.        , 0.        ,\n",
       "        1.        ],\n",
       "       [0.33333333, 0.6440678 , 0.70833333, 0.        , 0.        ,\n",
       "        1.        ],\n",
       "       [0.41666667, 0.66101695, 0.70833333, 0.        , 0.        ,\n",
       "        1.        ],\n",
       "       [0.33333333, 0.77966102, 0.83333333, 0.        , 0.        ,\n",
       "        1.        ],\n",
       "       [0.41666667, 0.81355932, 0.625     , 0.        , 0.        ,\n",
       "        1.        ],\n",
       "       [0.33333333, 0.86440678, 0.75      , 0.        , 0.        ,\n",
       "        1.        ],\n",
       "       [0.75      , 0.91525424, 0.79166667, 0.        , 0.        ,\n",
       "        1.        ],\n",
       "       [0.33333333, 0.77966102, 0.875     , 0.        , 0.        ,\n",
       "        1.        ],\n",
       "       [0.33333333, 0.69491525, 0.58333333, 0.        , 0.        ,\n",
       "        1.        ],\n",
       "       [0.25      , 0.77966102, 0.54166667, 0.        , 0.        ,\n",
       "        1.        ],\n",
       "       [0.41666667, 0.86440678, 0.91666667, 0.        , 0.        ,\n",
       "        1.        ],\n",
       "       [0.58333333, 0.77966102, 0.95833333, 0.        , 0.        ,\n",
       "        1.        ],\n",
       "       [0.45833333, 0.76271186, 0.70833333, 0.        , 0.        ,\n",
       "        1.        ],\n",
       "       [0.41666667, 0.6440678 , 0.70833333, 0.        , 0.        ,\n",
       "        1.        ],\n",
       "       [0.45833333, 0.74576271, 0.83333333, 0.        , 0.        ,\n",
       "        1.        ],\n",
       "       [0.45833333, 0.77966102, 0.95833333, 0.        , 0.        ,\n",
       "        1.        ],\n",
       "       [0.45833333, 0.69491525, 0.91666667, 0.        , 0.        ,\n",
       "        1.        ],\n",
       "       [0.29166667, 0.69491525, 0.75      , 0.        , 0.        ,\n",
       "        1.        ],\n",
       "       [0.5       , 0.83050847, 0.91666667, 0.        , 0.        ,\n",
       "        1.        ],\n",
       "       [0.54166667, 0.79661017, 1.        , 0.        , 0.        ,\n",
       "        1.        ],\n",
       "       [0.41666667, 0.71186441, 0.91666667, 0.        , 0.        ,\n",
       "        1.        ],\n",
       "       [0.20833333, 0.6779661 , 0.75      , 0.        , 0.        ,\n",
       "        1.        ],\n",
       "       [0.41666667, 0.71186441, 0.79166667, 0.        , 0.        ,\n",
       "        1.        ],\n",
       "       [0.58333333, 0.74576271, 0.91666667, 0.        , 0.        ,\n",
       "        1.        ],\n",
       "       [0.41666667, 0.69491525, 0.70833333, 0.        , 0.        ,\n",
       "        1.        ]])"
      ]
     },
     "execution_count": 113,
     "metadata": {},
     "output_type": "execute_result"
    }
   ],
   "source": [
    "from sklearn.preprocessing import MinMaxScaler\n",
    "Scale=MinMaxScaler(feature_range=(0,1)).fit_transform(df1)\n",
    "Scale"
   ]
  },
  {
   "cell_type": "code",
   "execution_count": 114,
   "id": "28d89e6b",
   "metadata": {},
   "outputs": [
    {
     "data": {
      "text/plain": [
       "numpy.ndarray"
      ]
     },
     "execution_count": 114,
     "metadata": {},
     "output_type": "execute_result"
    }
   ],
   "source": [
    "type(Scale)"
   ]
  },
  {
   "cell_type": "code",
   "execution_count": 115,
   "id": "18483221",
   "metadata": {},
   "outputs": [
    {
     "data": {
      "text/html": [
       "<div>\n",
       "<style scoped>\n",
       "    .dataframe tbody tr th:only-of-type {\n",
       "        vertical-align: middle;\n",
       "    }\n",
       "\n",
       "    .dataframe tbody tr th {\n",
       "        vertical-align: top;\n",
       "    }\n",
       "\n",
       "    .dataframe thead tr th {\n",
       "        text-align: left;\n",
       "    }\n",
       "</style>\n",
       "<table border=\"1\" class=\"dataframe\">\n",
       "  <thead>\n",
       "    <tr>\n",
       "      <th></th>\n",
       "      <th>SW</th>\n",
       "      <th>PL</th>\n",
       "      <th>PW</th>\n",
       "      <th>Classification_Iris-setosa</th>\n",
       "      <th>Classification_Iris-versicolor</th>\n",
       "      <th>Classification_Iris-virginica</th>\n",
       "    </tr>\n",
       "  </thead>\n",
       "  <tbody>\n",
       "    <tr>\n",
       "      <th>0</th>\n",
       "      <td>0.625000</td>\n",
       "      <td>0.067797</td>\n",
       "      <td>0.041667</td>\n",
       "      <td>1.0</td>\n",
       "      <td>0.0</td>\n",
       "      <td>0.0</td>\n",
       "    </tr>\n",
       "    <tr>\n",
       "      <th>1</th>\n",
       "      <td>0.416667</td>\n",
       "      <td>0.067797</td>\n",
       "      <td>0.041667</td>\n",
       "      <td>1.0</td>\n",
       "      <td>0.0</td>\n",
       "      <td>0.0</td>\n",
       "    </tr>\n",
       "    <tr>\n",
       "      <th>2</th>\n",
       "      <td>0.500000</td>\n",
       "      <td>0.050847</td>\n",
       "      <td>0.041667</td>\n",
       "      <td>1.0</td>\n",
       "      <td>0.0</td>\n",
       "      <td>0.0</td>\n",
       "    </tr>\n",
       "    <tr>\n",
       "      <th>3</th>\n",
       "      <td>0.458333</td>\n",
       "      <td>0.084746</td>\n",
       "      <td>0.041667</td>\n",
       "      <td>1.0</td>\n",
       "      <td>0.0</td>\n",
       "      <td>0.0</td>\n",
       "    </tr>\n",
       "    <tr>\n",
       "      <th>4</th>\n",
       "      <td>0.666667</td>\n",
       "      <td>0.067797</td>\n",
       "      <td>0.041667</td>\n",
       "      <td>1.0</td>\n",
       "      <td>0.0</td>\n",
       "      <td>0.0</td>\n",
       "    </tr>\n",
       "  </tbody>\n",
       "</table>\n",
       "</div>"
      ],
      "text/plain": [
       "         SW        PL        PW Classification_Iris-setosa  \\\n",
       "0  0.625000  0.067797  0.041667                        1.0   \n",
       "1  0.416667  0.067797  0.041667                        1.0   \n",
       "2  0.500000  0.050847  0.041667                        1.0   \n",
       "3  0.458333  0.084746  0.041667                        1.0   \n",
       "4  0.666667  0.067797  0.041667                        1.0   \n",
       "\n",
       "  Classification_Iris-versicolor Classification_Iris-virginica  \n",
       "0                            0.0                           0.0  \n",
       "1                            0.0                           0.0  \n",
       "2                            0.0                           0.0  \n",
       "3                            0.0                           0.0  \n",
       "4                            0.0                           0.0  "
      ]
     },
     "execution_count": 115,
     "metadata": {},
     "output_type": "execute_result"
    }
   ],
   "source": [
    "Scale = pd.DataFrame(Scale, columns=[df1])\n",
    "Scale.head()"
   ]
  },
  {
   "cell_type": "markdown",
   "id": "5b0e8fd3",
   "metadata": {},
   "source": [
    "#### Spliting into test and train"
   ]
  },
  {
   "cell_type": "code",
   "execution_count": 116,
   "id": "c15f791a",
   "metadata": {},
   "outputs": [
    {
     "name": "stderr",
     "output_type": "stream",
     "text": [
      "C:\\Users\\jubie\\AppData\\Local\\Temp\\ipykernel_452\\2792193405.py:1: FutureWarning: The default value of numeric_only in DataFrame.corr is deprecated. In a future version, it will default to False. Select only valid columns or specify the value of numeric_only to silence this warning.\n",
      "  corr_matrix = df.corr()\n"
     ]
    },
    {
     "data": {
      "image/png": "[encoded data removed]",
      "text/plain": [
       "<Figure size 3000x1000 with 2 Axes>"
      ]
     },
     "metadata": {},
     "output_type": "display_data"
    }
   ],
   "source": [
    "corr_matrix = df.corr()\n",
    "plt.subplots(figsize= (30,10))\n",
    "sns.heatmap(corr_matrix, fmt='.2f', annot=True, vmin= -0.8, vmax= 0.8, cmap='seismic')\n",
    "plt.show()"
   ]
  },
  {
   "cell_type": "code",
   "execution_count": 117,
   "id": "2231332c",
   "metadata": {},
   "outputs": [],
   "source": [
    "y = df['Classification']\n",
    "X = df.drop('Classification',axis=1)"
   ]
  },
  {
   "cell_type": "code",
   "execution_count": 118,
   "id": "d6d6f8de",
   "metadata": {},
   "outputs": [
    {
     "data": {
      "text/html": [
       "<div>\n",
       "<style scoped>\n",
       "    .dataframe tbody tr th:only-of-type {\n",
       "        vertical-align: middle;\n",
       "    }\n",
       "\n",
       "    .dataframe tbody tr th {\n",
       "        vertical-align: top;\n",
       "    }\n",
       "\n",
       "    .dataframe thead th {\n",
       "        text-align: right;\n",
       "    }\n",
       "</style>\n",
       "<table border=\"1\" class=\"dataframe\">\n",
       "  <thead>\n",
       "    <tr style=\"text-align: right;\">\n",
       "      <th></th>\n",
       "      <th>SW</th>\n",
       "      <th>PL</th>\n",
       "      <th>PW</th>\n",
       "    </tr>\n",
       "    <tr>\n",
       "      <th>SL</th>\n",
       "      <th></th>\n",
       "      <th></th>\n",
       "      <th></th>\n",
       "    </tr>\n",
       "  </thead>\n",
       "  <tbody>\n",
       "    <tr>\n",
       "      <th>5.0</th>\n",
       "      <td>3.6</td>\n",
       "      <td>1.4</td>\n",
       "      <td>0.2</td>\n",
       "    </tr>\n",
       "    <tr>\n",
       "      <th>5.2</th>\n",
       "      <td>4.1</td>\n",
       "      <td>1.5</td>\n",
       "      <td>0.1</td>\n",
       "    </tr>\n",
       "    <tr>\n",
       "      <th>5.8</th>\n",
       "      <td>2.7</td>\n",
       "      <td>5.1</td>\n",
       "      <td>1.9</td>\n",
       "    </tr>\n",
       "  </tbody>\n",
       "</table>\n",
       "</div>"
      ],
      "text/plain": [
       "      SW   PL   PW\n",
       "SL                \n",
       "5.0  3.6  1.4  0.2\n",
       "5.2  4.1  1.5  0.1\n",
       "5.8  2.7  5.1  1.9"
      ]
     },
     "execution_count": 118,
     "metadata": {},
     "output_type": "execute_result"
    }
   ],
   "source": [
    "from sklearn.model_selection import train_test_split\n",
    "X_train, X_test, y_train, y_test = train_test_split(X, y, test_size=0.25, random_state=42)\n",
    "X_train.head(3)"
   ]
  },
  {
   "cell_type": "code",
   "execution_count": 119,
   "id": "22e2f783",
   "metadata": {},
   "outputs": [
    {
     "data": {
      "image/png": "[encoded data removed]",
      "text/plain": [
       "<Figure size 743x600 with 12 Axes>"
      ]
     },
     "metadata": {},
     "output_type": "display_data"
    }
   ],
   "source": [
    "sns.pairplot(df,hue=\"Classification\", height = 2, palette = 'colorblind');"
   ]
  },
  {
   "cell_type": "markdown",
   "id": "c459d9ca",
   "metadata": {},
   "source": [
    "## 3. Find out which classification model gives the best result (try all the classification algorithms discussed in the session)"
   ]
  },
  {
   "cell_type": "markdown",
   "id": "4408db17",
   "metadata": {},
   "source": [
    "### 1) LOGISTIC REGRESSION ML MODEL"
   ]
  },
  {
   "cell_type": "code",
   "execution_count": 120,
   "id": "7777722e",
   "metadata": {},
   "outputs": [],
   "source": [
    "from sklearn.linear_model import LogisticRegression\n",
    "log_reg = LogisticRegression()\n",
    "model1_lr = log_reg.fit(X_train, y_train)\n",
    "y_pred_lr = model1_lr.predict(X_test)\n",
    "from sklearn.metrics import confusion_matrix, precision_score, recall_score, f1_score, accuracy_score"
   ]
  },
  {
   "cell_type": "code",
   "execution_count": 121,
   "id": "8de0161f",
   "metadata": {},
   "outputs": [
    {
     "name": "stdout",
     "output_type": "stream",
     "text": [
      "[[15  0  0]\n",
      " [ 0 11  0]\n",
      " [ 0  0 12]]\n"
     ]
    }
   ],
   "source": [
    "print(confusion_matrix(y_test, y_pred_lr))\n"
   ]
  },
  {
   "cell_type": "code",
   "execution_count": 122,
   "id": "38e449c1",
   "metadata": {},
   "outputs": [
    {
     "name": "stdout",
     "output_type": "stream",
     "text": [
      "1.0\n"
     ]
    }
   ],
   "source": [
    "print(accuracy_score(y_test,y_pred_lr))"
   ]
  },
  {
   "cell_type": "code",
   "execution_count": 123,
   "id": "26d8396f",
   "metadata": {},
   "outputs": [],
   "source": [
    "## recall_score and f1_score can,t find it using log regreesion"
   ]
  },
  {
   "cell_type": "markdown",
   "id": "03f78b70",
   "metadata": {},
   "source": [
    "### 2) K-NN"
   ]
  },
  {
   "cell_type": "code",
   "execution_count": 124,
   "id": "45d2d24c",
   "metadata": {},
   "outputs": [],
   "source": [
    "#knn\n",
    "from sklearn.neighbors import KNeighborsClassifier\n",
    "metric_k = []\n",
    "neighbours = np.arange(3,15)\n",
    "\n",
    "for k in neighbours:\n",
    "        knn = KNeighborsClassifier(n_neighbors=k)\n",
    "        model2 = knn.fit(X_train, y_train)\n",
    "        y_pred_knn = model2.predict(X_test)\n",
    "        acc=accuracy_score(y_test,y_pred_knn)\n",
    "        metric_k.append(acc)"
   ]
  },
  {
   "cell_type": "code",
   "execution_count": 125,
   "id": "f028f7b8",
   "metadata": {},
   "outputs": [
    {
     "data": {
      "text/plain": [
       "[0.9736842105263158,\n",
       " 0.9736842105263158,\n",
       " 1.0,\n",
       " 1.0,\n",
       " 1.0,\n",
       " 1.0,\n",
       " 1.0,\n",
       " 1.0,\n",
       " 1.0,\n",
       " 1.0,\n",
       " 1.0,\n",
       " 1.0]"
      ]
     },
     "execution_count": 125,
     "metadata": {},
     "output_type": "execute_result"
    }
   ],
   "source": [
    "metric_k"
   ]
  },
  {
   "cell_type": "code",
   "execution_count": 126,
   "id": "fa1be6ba",
   "metadata": {},
   "outputs": [
    {
     "data": {
      "image/png": "[encoded data removed]",
      "text/plain": [
       "<Figure size 640x480 with 1 Axes>"
      ]
     },
     "metadata": {},
     "output_type": "display_data"
    }
   ],
   "source": [
    "# plot a graph\n",
    "plt.plot(neighbours,metric_k,'o-')\n",
    "plt.xlabel('k-value')\n",
    "plt.ylabel('Accuracy')\n",
    "plt.suptitle(\"Test Accuracy vs K\")\n",
    "plt.grid()"
   ]
  },
  {
   "cell_type": "code",
   "execution_count": 127,
   "id": "1ca83486",
   "metadata": {},
   "outputs": [
    {
     "name": "stdout",
     "output_type": "stream",
     "text": [
      "[[15  0  0]\n",
      " [ 0 11  0]\n",
      " [ 0  0 12]]\n",
      "1.0\n"
     ]
    }
   ],
   "source": [
    "knn = KNeighborsClassifier(n_neighbors=8)\n",
    "model2 = knn.fit(X_train, y_train)\n",
    "y_pred_knn = model2.predict(X_test)\n",
    "\n",
    "print(confusion_matrix(y_test, y_pred_knn))\n",
    "print(accuracy_score(y_test, y_pred_knn))\n",
    "\n"
   ]
  },
  {
   "cell_type": "markdown",
   "id": "2226f443",
   "metadata": {},
   "source": [
    "### 3) SVM MODEL"
   ]
  },
  {
   "cell_type": "code",
   "execution_count": 128,
   "id": "a5c68d73",
   "metadata": {},
   "outputs": [
    {
     "name": "stdout",
     "output_type": "stream",
     "text": [
      "[[15  0  0]\n",
      " [ 0 11  0]\n",
      " [ 0  0 12]]\n",
      "1.0\n"
     ]
    }
   ],
   "source": [
    "from sklearn.svm import SVC\n",
    "#Linear SVM KERNEL;\n",
    "svm_clf = SVC(kernel='linear')\n",
    "svm_model = svm_clf.fit(X_train, y_train)\n",
    "y_pred_svm1 = svm_clf.predict(X_test)\n",
    "\n",
    "\n",
    "print(confusion_matrix(y_test, y_pred_svm1))\n",
    "print(accuracy_score(y_test, y_pred_svm1))"
   ]
  },
  {
   "cell_type": "code",
   "execution_count": 129,
   "id": "f0e6b7d0",
   "metadata": {},
   "outputs": [
    {
     "name": "stdout",
     "output_type": "stream",
     "text": [
      "[[15  0  0]\n",
      " [ 0 11  0]\n",
      " [ 0  0 12]]\n",
      "1.0\n"
     ]
    }
   ],
   "source": [
    "#Radial Basis Function(RBF) SVM KERNEL;\n",
    "svm_clf_rbf = SVC(kernel='rbf')\n",
    "svm_model = svm_clf_rbf.fit(X_train, y_train)\n",
    "y_pred_rbf = svm_clf_rbf.predict(X_test)\n",
    "\n",
    "\n",
    "print(confusion_matrix(y_test, y_pred_rbf))\n",
    "print(accuracy_score(y_test, y_pred_rbf))"
   ]
  },
  {
   "cell_type": "code",
   "execution_count": 130,
   "id": "055ae43b",
   "metadata": {},
   "outputs": [
    {
     "name": "stdout",
     "output_type": "stream",
     "text": [
      "[[15  0  0]\n",
      " [ 0 10  1]\n",
      " [ 0  0 12]]\n",
      "0.9736842105263158\n"
     ]
    }
   ],
   "source": [
    "#Polynomial SVM KERNEL:\n",
    "svm_clf_p = SVC(kernel='poly', degree = 4)\n",
    "svm_model = svm_clf_p.fit(X_train, y_train)\n",
    "y_pred_p = svm_clf_p.predict(X_test)\n",
    "\n",
    "\n",
    "print(confusion_matrix(y_test, y_pred_p))\n",
    "print(accuracy_score(y_test, y_pred_p))\n"
   ]
  },
  {
   "cell_type": "markdown",
   "id": "5860c6ef",
   "metadata": {},
   "source": [
    "### 4) DECISION TREE "
   ]
  },
  {
   "cell_type": "code",
   "execution_count": 131,
   "id": "613d62ff",
   "metadata": {},
   "outputs": [
    {
     "name": "stdout",
     "output_type": "stream",
     "text": [
      "[[15  0  0]\n",
      " [ 0 11  0]\n",
      " [ 0  0 12]]\n",
      "1.0\n"
     ]
    }
   ],
   "source": [
    "\n",
    "from sklearn.tree import DecisionTreeClassifier\n",
    "dtm_clf = DecisionTreeClassifier(random_state = 42)\n",
    "dtm_clf.fit(X_train, y_train)\n",
    "y_pred_dtm = dtm_clf.predict(X_test)\n",
    "\n",
    "\n",
    "print(confusion_matrix(y_test, y_pred_dtm))\n",
    "print(accuracy_score(y_test, y_pred_dtm))\n",
    "\n"
   ]
  },
  {
   "cell_type": "markdown",
   "id": "0797285d",
   "metadata": {},
   "source": [
    "### 5) RANDOM FOREST MODEL"
   ]
  },
  {
   "cell_type": "code",
   "execution_count": 132,
   "id": "4e296fe6",
   "metadata": {},
   "outputs": [
    {
     "name": "stdout",
     "output_type": "stream",
     "text": [
      "[[15  0  0]\n",
      " [ 0 11  0]\n",
      " [ 0  0 12]]\n",
      "1.0\n"
     ]
    }
   ],
   "source": [
    "#random forest model\n",
    "from sklearn.ensemble import RandomForestClassifier\n",
    "rfm_clf = RandomForestClassifier(random_state = 42)\n",
    "rfm_clf.fit(X_train, y_train)\n",
    "y_pred_rfm = rfm_clf.predict(X_test)\n",
    "\n",
    "\n",
    "print(confusion_matrix(y_test, y_pred_rfm))\n",
    "print(accuracy_score(y_test, y_pred_rfm))\n",
    "\n"
   ]
  },
  {
   "cell_type": "code",
   "execution_count": 133,
   "id": "792d340c",
   "metadata": {},
   "outputs": [
    {
     "name": "stdout",
     "output_type": "stream",
     "text": [
      "Comparing accuracy scores for different models\n",
      "Accuracy score for Logistic-regression 1.0\n",
      "Accuracy score for kNN 1.0\n",
      "Accuracy score for SVM Linear 1.0\n",
      "Accuracy score for SVM RBF 1.0\n",
      "Accuracy score for SVM Polynomial 0.9736842105263158\n",
      "Accuracy score for Random Forest Model 1.0\n",
      "Accuracy score for Decision Tree 1.0\n"
     ]
    }
   ],
   "source": [
    "print('Comparing accuracy scores for different models')\n",
    "print('Accuracy score for Logistic-regression',accuracy_score(y_test,y_pred_lr))\n",
    "print('Accuracy score for kNN',accuracy_score(y_test,y_pred_knn))\n",
    "print('Accuracy score for SVM Linear',accuracy_score(y_test, y_pred_svm1))\n",
    "print('Accuracy score for SVM RBF',accuracy_score(y_test, y_pred_rbf))\n",
    "print('Accuracy score for SVM Polynomial',accuracy_score(y_test, y_pred_p))\n",
    "print('Accuracy score for Random Forest Model',accuracy_score(y_test, y_pred_rfm))\n",
    "print('Accuracy score for Decision Tree',accuracy_score(y_test, y_pred_dtm))"
   ]
  },
  {
   "cell_type": "markdown",
   "id": "4327417c",
   "metadata": {},
   "source": [
    "#### We should be pretty confident now since most of our models achieved a test accuracy of 100%!\n",
    "\n",
    "\n",
    "\n"
   ]
  },
  {
   "cell_type": "code",
   "execution_count": null,
   "id": "de050082",
   "metadata": {},
   "outputs": [],
   "source": []
  }
 ],
 "metadata": {
  "kernelspec": {
   "display_name": "Python 3 (ipykernel)",
   "language": "python",
   "name": "python3"
  },
  "language_info": {
   "codemirror_mode": {
    "name": "ipython",
    "version": 3
   },
   "file_extension": ".py",
   "mimetype": "text/x-python",
   "name": "python",
   "nbconvert_exporter": "python",
   "pygments_lexer": "ipython3",
   "version": "3.10.8"
  }
 },
 "nbformat": 4,
 "nbformat_minor": 5
}
